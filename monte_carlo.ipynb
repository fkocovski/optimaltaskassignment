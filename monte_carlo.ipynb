{
 "cells": [
  {
   "cell_type": "code",
   "execution_count": 1,
   "metadata": {
    "collapsed": false
   },
   "outputs": [
    {
     "data": {
      "text/plain": [
       "<IPython.core.display.Javascript object>"
      ]
     },
     "execution_count": 0,
     "metadata": {},
     "output_type": "execute_result"
    },
    {
     "data": {
      "text/html": [
       "<div id='4f075d17-19cd-4735-8451-c13761746504'></div>"
      ],
      "text/plain": [
       "<div id='4f075d17-19cd-4735-8451-c13761746504'></div>"
      ]
     },
     "execution_count": 0,
     "metadata": {},
     "output_type": "execute_result"
    },
    {
     "data": {
      "text/plain": [
       "<IPython.core.display.Javascript object>"
      ]
     },
     "execution_count": 0,
     "metadata": {},
     "output_type": "execute_result"
    },
    {
     "data": {
      "text/html": [
       "<div id='eed16f48-d384-48b4-bcbb-11c35e65c4a8'></div>"
      ],
      "text/plain": [
       "<div id='eed16f48-d384-48b4-bcbb-11c35e65c4a8'></div>"
      ]
     },
     "execution_count": 0,
     "metadata": {},
     "output_type": "execute_result"
    },
    {
     "data": {
      "text/plain": [
       "<IPython.core.display.Javascript object>"
      ]
     },
     "execution_count": 0,
     "metadata": {},
     "output_type": "execute_result"
    },
    {
     "data": {
      "text/html": [
       "<div id='6b1fde77-ea60-461d-9426-6c7bf046a16d'></div>"
      ],
      "text/plain": [
       "<div id='6b1fde77-ea60-461d-9426-6c7bf046a16d'></div>"
      ]
     },
     "execution_count": 0,
     "metadata": {},
     "output_type": "execute_result"
    }
   ],
   "source": [
    "import simpy\n",
    "import numpy as np\n",
    "from evaluation.plot import evolution\n",
    "from evaluation.trisurf_3d_plot import qsa_values\n",
    "from elements.workflow_process_elements import StartEvent, UserTask, connect\n",
    "from evaluation.statistics import calculate_statistics\n",
    "from policies.monte_carlo_VFA import MC\n",
    "from simulations import *\n",
    "import time\n",
    "\n",
    "%matplotlib notebook\n",
    "\n",
    "# init theta and reinforcement learning variables\n",
    "theta = np.zeros(NUMBER_OF_USERS ** 2)\n",
    "gamma = 1\n",
    "epochs = 500\n",
    "initial_alpha = 1e-10\n",
    "\n",
    "for i in range(epochs):\n",
    "    # creates simulation environment\n",
    "    env = simpy.Environment()\n",
    "\n",
    "    # fixed parameters\n",
    "    # epsilon = 0.1\n",
    "    # alpha_disc = initial_alpha\n",
    "\n",
    "    # decay parameters\n",
    "    epsilon = 1 / (i + 1)\n",
    "    alpha_disc = initial_alpha / (i + 1)\n",
    "\n",
    "    # initialize policy\n",
    "    policy_train = MC(env, NUMBER_OF_USERS, WORKER_VARAIBILITY, None, None, theta, epsilon, gamma, alpha_disc)\n",
    "\n",
    "    # start event\n",
    "    start_event = StartEvent(env, GENERATION_INTERVAL)\n",
    "\n",
    "    # user tasks\n",
    "    user_task = UserTask(env, policy_train, \"User task 1\", SERVICE_INTERVAL, TASK_VARIABILITY)\n",
    "\n",
    "    # connections\n",
    "    connect(start_event, user_task)\n",
    "\n",
    "    # start of simulation\n",
    "    start = time.time()\n",
    "\n",
    "    # calls generation tokens process\n",
    "    env.process(start_event.generate_tokens())\n",
    "\n",
    "    # runs simulation\n",
    "    env.run(until=SIM_TIME)\n",
    "\n",
    "    # end of simulation\n",
    "    end = time.time()\n",
    "\n",
    "    # update theta\n",
    "    MC.update_theta(policy_train)\n",
    "\n",
    "# set epsilon to 0.0 to make test policy behave full greedy\n",
    "epsilon = 0.0\n",
    "\n",
    "# creates simulation environment\n",
    "env = simpy.Environment()\n",
    "\n",
    "# open file and write header\n",
    "file_policy, file_statistics, file_policy_name, file_statistics_name = create_files(\"MC_VFA\")\n",
    "\n",
    "# initialize policy\n",
    "policy = MC(env, NUMBER_OF_USERS, WORKER_VARAIBILITY, file_policy, file_statistics, theta, epsilon, gamma,\n",
    "            initial_alpha)\n",
    "\n",
    "# start event\n",
    "start_event = StartEvent(env, GENERATION_INTERVAL)\n",
    "\n",
    "# user tasks\n",
    "user_task = UserTask(env, policy, \"User task 1\", SERVICE_INTERVAL, TASK_VARIABILITY)\n",
    "\n",
    "# connections\n",
    "connect(start_event, user_task)\n",
    "\n",
    "# calls generation tokens process\n",
    "env.process(start_event.generate_tokens())\n",
    "\n",
    "# runs simulation\n",
    "env.run(until=SIM_TIME)\n",
    "\n",
    "# value action for plot\n",
    "value_action = policy.value_function()\n",
    "\n",
    "# close file\n",
    "file_policy.close()\n",
    "file_statistics.close()\n",
    "\n",
    "# calculate statistics and plots\n",
    "calculate_statistics(file_policy_name)\n",
    "evolution(file_statistics_name)\n",
    "qsa_values(value_action)"
   ]
  },
  {
   "cell_type": "code",
   "execution_count": null,
   "metadata": {},
   "outputs": [],
   "source": [
    ""
   ]
  }
 ],
 "metadata": {
  "kernelspec": {
   "display_name": "Python 2",
   "language": "python",
   "name": "python2"
  },
  "language_info": {
   "codemirror_mode": {
    "name": "ipython",
    "version": 2.0
   },
   "file_extension": ".py",
   "mimetype": "text/x-python",
   "name": "python",
   "nbconvert_exporter": "python",
   "pygments_lexer": "ipython2",
   "version": "2.7.6"
  }
 },
 "nbformat": 4,
 "nbformat_minor": 0
}