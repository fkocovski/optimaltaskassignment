{
 "cells": [
  {
   "cell_type": "code",
   "execution_count": 1,
   "metadata": {
    "collapsed": false
   },
   "outputs": [
    {
     "data": {
      "text/plain": [
       "<IPython.core.display.Javascript object>"
      ]
     },
     "execution_count": 0,
     "metadata": {},
     "output_type": "execute_result"
    },
    {
     "data": {
      "text/html": [
       "<div id='fb1dabee-6c02-43ea-b113-1fdd95236437'></div>"
      ],
      "text/plain": [
       "<div id='fb1dabee-6c02-43ea-b113-1fdd95236437'></div>"
      ]
     },
     "execution_count": 0,
     "metadata": {},
     "output_type": "execute_result"
    },
    {
     "name": "stdout",
     "output_type": "stream",
     "text": [
      "100\n"
     ]
    }
   ],
   "source": [
    "import simpy\n",
    "import numpy as np\n",
    "\n",
    "from mpl_toolkits.mplot3d import Axes3D\n",
    "import matplotlib.pyplot as plt\n",
    "\n",
    "from evaluation.plot import evolution\n",
    "from elements.workflow_process_elements import StartEvent, UserTask, connect\n",
    "from evaluation.statistics import calculate_statistics\n",
    "from policies.monte_carlo import MC\n",
    "from simulations import *\n",
    "%matplotlib notebook\n",
    "\n",
    "\n",
    "# init q_table and reinforcement learning variables\n",
    "q_table = np.zeros((100, 100, NUMBER_OF_USERS))\n",
    "epsilon = 0.1\n",
    "gamma = 0.9\n",
    "epochs = 1\n",
    "\n",
    "for i in range(epochs):\n",
    "    # creates simulation environment\n",
    "    env = simpy.Environment()\n",
    "\n",
    "    # open file and write header\n",
    "    file_policy,file_statistics,file_policy_name,file_statistics_name = create_files(\"run{}_mc\".format(i))\n",
    "\n",
    "    # initialize policy\n",
    "    policy = MC(env, NUMBER_OF_USERS, WORKER_VARAIBILITY, file_policy, file_statistics,q_table,epsilon,gamma)\n",
    "\n",
    "    # start event\n",
    "    start_event = StartEvent(env, GENERATION_INTERVAL)\n",
    "\n",
    "    # user tasks\n",
    "    user_task = UserTask(env, policy, \"User task 1\", SERVICE_INTERVAL, TASK_VARIABILITY)\n",
    "\n",
    "    # connections\n",
    "    connect(start_event, user_task)\n",
    "\n",
    "    # calls generation tokens process\n",
    "    env.process(start_event.generate_tokens())\n",
    "\n",
    "    # runs simulation\n",
    "    env.run(until=SIM_TIME)\n",
    "\n",
    "    # update q_table\n",
    "    new_q_table = MC.update_q_table(policy)\n",
    "    q_table = new_q_table\n",
    "\n",
    "    fig = plt.figure()\n",
    "    ax= fig.add_subplot(111,projection=\"3d\")\n",
    "    \n",
    "    print(len(q_table))\n",
    "    \n",
    "    for i in range(len(q_table)):\n",
    "        ax.scatter(q_table[i,i,0],q_table[i,i,1],np.argmax(q_table[i,i]))\n",
    "\n",
    "    # ax.set_zticks(1.0,2.0)\n",
    "\n",
    "    ax.set_xlabel('X Label')\n",
    "    ax.set_ylabel('Y Label')\n",
    "    ax.set_zlabel('Z Label')\n",
    "\n",
    "    plt.show()\n",
    "\n",
    "    # close file\n",
    "    file_policy.close()\n",
    "    file_statistics.close()\n",
    "\n",
    "    # calculate statistics and plots\n",
    "    # calculate_statistics(file_policy_name, outfile=\"{}.pdf\".format(file_policy_name[:-4]))\n",
    "    # evolution(file_statistics_name, outfile=\"{}.pdf\".format(file_statistics_name[:-4]))"
   ]
  },
  {
   "cell_type": "code",
   "execution_count": null,
   "metadata": {},
   "outputs": [],
   "source": [
    ""
   ]
  }
 ],
 "metadata": {
  "kernelspec": {
   "display_name": "Python 2",
   "language": "python",
   "name": "python2"
  },
  "language_info": {
   "codemirror_mode": {
    "name": "ipython",
    "version": 2.0
   },
   "file_extension": ".py",
   "mimetype": "text/x-python",
   "name": "python",
   "nbconvert_exporter": "python",
   "pygments_lexer": "ipython2",
   "version": "2.7.6"
  }
 },
 "nbformat": 4,
 "nbformat_minor": 0
}