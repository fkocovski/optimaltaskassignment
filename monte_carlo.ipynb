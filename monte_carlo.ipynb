{
 "cells": [
  {
   "cell_type": "code",
   "execution_count": 2,
   "metadata": {
    "collapsed": true
   },
   "outputs": [
    {
     "data": {
      "text/plain": [
       "<IPython.core.display.Javascript object>"
      ]
     },
     "execution_count": 0,
     "metadata": {},
     "output_type": "execute_result"
    },
    {
     "data": {
      "text/html": [
       "<div id='00cee80b-600f-4622-891b-0ea50334e5fe'></div>"
      ],
      "text/plain": [
       "<div id='00cee80b-600f-4622-891b-0ea50334e5fe'></div>"
      ]
     },
     "execution_count": 0,
     "metadata": {},
     "output_type": "execute_result"
    },
    {
     "data": {
      "text/plain": [
       "<IPython.core.display.Javascript object>"
      ]
     },
     "execution_count": 0,
     "metadata": {},
     "output_type": "execute_result"
    },
    {
     "data": {
      "text/html": [
       "<div id='e3e0efc2-24b0-40ad-ba96-05c2e1d3c7ab'></div>"
      ],
      "text/plain": [
       "<div id='e3e0efc2-24b0-40ad-ba96-05c2e1d3c7ab'></div>"
      ]
     },
     "execution_count": 0,
     "metadata": {},
     "output_type": "execute_result"
    },
    {
     "data": {
      "text/plain": [
       "<IPython.core.display.Javascript object>"
      ]
     },
     "execution_count": 0,
     "metadata": {},
     "output_type": "execute_result"
    },
    {
     "data": {
      "text/html": [
       "<div id='74f02e36-4966-4a89-a206-8344dc366aa9'></div>"
      ],
      "text/plain": [
       "<div id='74f02e36-4966-4a89-a206-8344dc366aa9'></div>"
      ]
     },
     "execution_count": 0,
     "metadata": {},
     "output_type": "execute_result"
    },
    {
     "data": {
      "text/plain": [
       "<IPython.core.display.Javascript object>"
      ]
     },
     "execution_count": 0,
     "metadata": {},
     "output_type": "execute_result"
    },
    {
     "data": {
      "text/html": [
       "<div id='7e9631a8-7273-459f-a01a-2cde5c095d0f'></div>"
      ],
      "text/plain": [
       "<div id='7e9631a8-7273-459f-a01a-2cde5c095d0f'></div>"
      ]
     },
     "execution_count": 0,
     "metadata": {},
     "output_type": "execute_result"
    },
    {
     "data": {
      "text/plain": [
       "<IPython.core.display.Javascript object>"
      ]
     },
     "execution_count": 0,
     "metadata": {},
     "output_type": "execute_result"
    },
    {
     "data": {
      "text/html": [
       "<div id='3834fd65-f894-48de-871b-2258f7d5960d'></div>"
      ],
      "text/plain": [
       "<div id='3834fd65-f894-48de-871b-2258f7d5960d'></div>"
      ]
     },
     "execution_count": 0,
     "metadata": {},
     "output_type": "execute_result"
    },
    {
     "data": {
      "text/plain": [
       "<IPython.core.display.Javascript object>"
      ]
     },
     "execution_count": 0,
     "metadata": {},
     "output_type": "execute_result"
    },
    {
     "data": {
      "text/html": [
       "<div id='afe9f92e-5063-44d5-bd68-6eb033e6d409'></div>"
      ],
      "text/plain": [
       "<div id='afe9f92e-5063-44d5-bd68-6eb033e6d409'></div>"
      ]
     },
     "execution_count": 0,
     "metadata": {},
     "output_type": "execute_result"
    }
   ],
   "source": [
    "import simpy\n",
    "import numpy as np\n",
    "from evaluation.plot import evolution\n",
    "from elements.workflow_process_elements import StartEvent, UserTask, connect\n",
    "from evaluation.statistics import calculate_statistics\n",
    "from policies.monte_carlo import MC\n",
    "from simulations import *\n",
    "%matplotlib notebook\n",
    "\n",
    "\n",
    "# init q_table and reinforcement learning variables\n",
    "q_table = np.zeros((100, 100, NUMBER_OF_USERS))\n",
    "epsilon = 0.1\n",
    "gamma = 0.9\n",
    "epochs = 3\n",
    "\n",
    "for i in range(epochs):\n",
    "    # creates simulation environment\n",
    "    env = simpy.Environment()\n",
    "\n",
    "    # open file and write header\n",
    "    file_policy,file_statistics,file_policy_name,file_statistics_name = create_files(\"run{}_mc\".format(i))\n",
    "\n",
    "    # initialize policy\n",
    "    policy = MC(env, NUMBER_OF_USERS, WORKER_VARAIBILITY, file_policy, file_statistics,q_table,epsilon,gamma)\n",
    "\n",
    "    # start event\n",
    "    start_event = StartEvent(env, GENERATION_INTERVAL)\n",
    "\n",
    "    # user tasks\n",
    "    user_task = UserTask(env, policy, \"User task 1\", SERVICE_INTERVAL, TASK_VARIABILITY)\n",
    "\n",
    "    # connections\n",
    "    connect(start_event, user_task)\n",
    "\n",
    "    # calls generation tokens process\n",
    "    env.process(start_event.generate_tokens())\n",
    "\n",
    "    # runs simulation\n",
    "    env.run(until=SIM_TIME)\n",
    "\n",
    "    # update q_table\n",
    "    new_q_table = MC.update_q_table(policy)\n",
    "    q_table = new_q_table\n",
    "\n",
    "    # close file\n",
    "    file_policy.close()\n",
    "    file_statistics.close()\n",
    "\n",
    "    # calculate statistics and plots\n",
    "    # calculate_statistics(file_policy_name, outfile=\"{}.pdf\".format(file_policy_name[:-4]))\n",
    "    evolution(file_statistics_name)"
   ]
  },
  {
   "cell_type": "code",
   "execution_count": null,
   "metadata": {},
   "outputs": [],
   "source": [
    ""
   ]
  }
 ],
 "metadata": {
  "kernelspec": {
   "display_name": "Python 2",
   "language": "python",
   "name": "python2"
  },
  "language_info": {
   "codemirror_mode": {
    "name": "ipython",
    "version": 2.0
   },
   "file_extension": ".py",
   "mimetype": "text/x-python",
   "name": "python",
   "nbconvert_exporter": "python",
   "pygments_lexer": "ipython2",
   "version": "2.7.6"
  }
 },
 "nbformat": 4,
 "nbformat_minor": 0
}