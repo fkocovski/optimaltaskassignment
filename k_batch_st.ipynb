{
 "cells": [
  {
   "cell_type": "code",
   "execution_count": 4,
   "metadata": {
    "collapsed": true
   },
   "outputs": [],
   "source": [
    "import simpy\n",
    "\n",
    "from evaluation.plot import evolution\n",
    "from elements.workflow_process_elements import StartEvent, UserTask, connect\n",
    "from evaluation.statistics import calculate_statistics\n",
    "from policies.k_batch import KBatch\n",
    "from simulations import *\n",
    "from solvers.st_solver import st\n",
    "%matplotlib inline\n",
    "\n",
    "# creates simulation environment\n",
    "env = simpy.Environment()\n",
    "\n",
    "# open file and write header\n",
    "file_policy,file_statistics,file_policy_name,file_statistics_name = create_files(\"{}batch_st\".format(BATCH_SIZE))\n",
    "\n",
    "# initialize policy\n",
    "policy = KBatch(env, NUMBER_OF_USERS, WORKER_VARAIBILITY, BATCH_SIZE, st, file_policy, file_statistics)\n",
    "\n",
    "# start event\n",
    "start_event = StartEvent(env, GENERATION_INTERVAL)\n",
    "\n",
    "# user tasks\n",
    "user_task = UserTask(env, policy, \"User task 1\", SERVICE_INTERVAL, TASK_VARIABILITY)\n",
    "\n",
    "# connections\n",
    "connect(start_event, user_task)\n",
    "\n",
    "# calls generation tokens process\n",
    "env.process(start_event.generate_tokens())\n",
    "\n",
    "# runs simulation\n",
    "env.run(until=SIM_TIME)\n",
    "\n",
    "# close file\n",
    "file_policy.close()\n",
    "file_statistics.close()\n",
    "\n",
    "# calculate statistics and plots\n",
    "# calculate_statistics(file_policy_name)\n",
    "evolution(file_statistics_name)"
   ]
  },
  {
   "cell_type": "code",
   "execution_count": null,
   "metadata": {},
   "outputs": [],
   "source": [
    ""
   ]
  }
 ],
 "metadata": {
  "kernelspec": {
   "display_name": "Python 2",
   "language": "python",
   "name": "python2"
  },
  "language_info": {
   "codemirror_mode": {
    "name": "ipython",
    "version": 2.0
   },
   "file_extension": ".py",
   "mimetype": "text/x-python",
   "name": "python",
   "nbconvert_exporter": "python",
   "pygments_lexer": "ipython2",
   "version": "2.7.6"
  }
 },
 "nbformat": 4,
 "nbformat_minor": 0
}